{
 "cells": [
  {
   "cell_type": "code",
   "execution_count": 1,
   "metadata": {},
   "outputs": [
    {
     "name": "stderr",
     "output_type": "stream",
     "text": [
      "/usr/lib64/python3.6/site-packages/h5py/__init__.py:36: FutureWarning: Conversion of the second argument of issubdtype from `float` to `np.floating` is deprecated. In future, it will be treated as `np.float64 == np.dtype(float).type`.\n",
      "  from ._conv import register_converters as _register_converters\n",
      "Using TensorFlow backend.\n"
     ]
    }
   ],
   "source": [
    "import sys\n",
    "sys.path.append('../python')\n",
    "\n",
    "import matplotlib\n",
    "%matplotlib inline\n",
    "import matplotlib.pyplot as plt\n",
    "\n",
    "from machine_learning import *\n",
    "from notebook_network_size import find_best_network_size_notebook, try_best_network_sizes\n",
    "from train_single_network import train_single_network\n",
    "import os\n",
    "os.environ[\"CUDA_DEVICE_ORDER\"] = \"PCI_BUS_ID\"   # see issue #152\n",
    "os.environ[\"CUDA_VISIBLE_DEVICES\"] = \"\""
   ]
  },
  {
   "cell_type": "code",
   "execution_count": 2,
   "metadata": {
    "scrolled": false
   },
   "outputs": [],
   "source": [
    "data = []\n",
    "with open('../SOD_QMC_DATA.dat', 'r') as inputfile:\n",
    "    for l in inputfile:\n",
    "        data.append([float(x) for x in l.split(',')])\n",
    "data = np.array(data)\n",
    "\n",
    "parameters = data[:,:6]\n",
    "samples = data[:,6:]"
   ]
  },
  {
   "cell_type": "code",
   "execution_count": 3,
   "metadata": {},
   "outputs": [],
   "source": [
    "epochs = 500000\n",
    "network = [12, 12, 10, 12, 10, 12, 10, 10, 12,1]"
   ]
  },
  {
   "cell_type": "markdown",
   "metadata": {},
   "source": [
    "# Network sizes\n"
   ]
  },
  {
   "cell_type": "code",
   "execution_count": null,
   "metadata": {
    "scrolled": true
   },
   "outputs": [
    {
     "data": {
      "text/html": [
       "<h1>Q1</h1>"
      ],
      "text/plain": [
       "<IPython.core.display.HTML object>"
      ]
     },
     "metadata": {},
     "output_type": "display_data"
    },
    {
     "data": {
      "text/html": [
       "<h1>Best performing</h1>"
      ],
      "text/plain": [
       "<IPython.core.display.HTML object>"
      ]
     },
     "metadata": {},
     "output_type": "display_data"
    },
    {
     "data": {
      "text/html": [
       "<h2>mean_train</h2>"
      ],
      "text/plain": [
       "<IPython.core.display.HTML object>"
      ]
     },
     "metadata": {},
     "output_type": "display_data"
    },
    {
     "data": {
      "text/html": [
       "<h4>No regularization</h4>"
      ],
      "text/plain": [
       "<IPython.core.display.HTML object>"
      ]
     },
     "metadata": {},
     "output_type": "display_data"
    },
    {
     "name": "stdout",
     "output_type": "stream",
     "text": [
      "Config 4 x 6 ([0 x 0] / [5 x 5])\n",
      "Training and postprocessing took: 10.129615068435669 seconds (0.16882691780726114 minutes) (0.0028137819634543523 hours)\n",
      "Config 4 x 12 ([0 x 1] / [5 x 5])\n",
      "Training and postprocessing took: 23.40536069869995 seconds (0.39008934497833253 minutes) (0.006501489082972209 hours)\n",
      "Config 4 x 24 ([0 x 2] / [5 x 5])\n",
      "Training and postprocessing took: 21.49419617652893 seconds (0.3582366029421488 minutes) (0.005970610049035814 hours)\n",
      "Config 4 x 48 ([0 x 3] / [5 x 5])\n",
      "Training and postprocessing took: 32.92438817024231 seconds (0.5487398028373718 minutes) (0.009145663380622863 hours)\n",
      "Config 4 x 96 ([0 x 4] / [5 x 5])\n",
      "Training and postprocessing took: 35.843247175216675 seconds (0.597387452920278 minutes) (0.0099564575486713 hours)\n",
      "Config 8 x 6 ([1 x 0] / [5 x 5])\n",
      "Training and postprocessing took: 53.577977657318115 seconds (0.8929662942886353 minutes) (0.014882771571477254 hours)\n",
      "Config 8 x 12 ([1 x 1] / [5 x 5])\n",
      "Training and postprocessing took: 71.25677037239075 seconds (1.1876128395398458 minutes) (0.019793547325664095 hours)\n",
      "Config 8 x 24 ([1 x 2] / [5 x 5])\n",
      "Training and postprocessing took: 84.12010741233826 seconds (1.4020017902056376 minutes) (0.023366696503427296 hours)\n",
      "Config 8 x 48 ([1 x 3] / [5 x 5])\n",
      "Training and postprocessing took: 116.79623866081238 seconds (1.9466039776802062 minutes) (0.03244339962800344 hours)\n",
      "Config 8 x 96 ([1 x 4] / [5 x 5])\n",
      "Training and postprocessing took: 142.1769425868988 seconds (2.369615709781647 minutes) (0.039493595163027445 hours)\n",
      "Config 16 x 6 ([2 x 0] / [5 x 5])\n",
      "Training and postprocessing took: 325.47667121887207 seconds (5.424611186981201 minutes) (0.09041018644968668 hours)\n",
      "Config 16 x 12 ([2 x 1] / [5 x 5])\n"
     ]
    }
   ],
   "source": [
    "func_names=['Q1', 'Q2', 'Q3']\n",
    "\n",
    "for n, func_name in enumerate(func_names):\n",
    "    display(HTML(\"<h1>%s</h1>\"% func_name))\n",
    "    try_best_network_sizes(parameters=parameters, \n",
    "                           samples=samples[:,n], \n",
    "                           base_title='Sod Shock QMC %s' % func_name,\n",
    "                          epochs=epochs)"
   ]
  },
  {
   "cell_type": "markdown",
   "metadata": {},
   "source": [
    "# Single network"
   ]
  },
  {
   "cell_type": "code",
   "execution_count": null,
   "metadata": {},
   "outputs": [
    {
     "data": {
      "text/html": [
       "<h1>Q1</h1>"
      ],
      "text/plain": [
       "<IPython.core.display.HTML object>"
      ]
     },
     "metadata": {},
     "output_type": "display_data"
    },
    {
     "data": {
      "text/html": [
       "<h1>Best performing</h1>"
      ],
      "text/plain": [
       "<IPython.core.display.HTML object>"
      ]
     },
     "metadata": {},
     "output_type": "display_data"
    },
    {
     "data": {
      "text/html": [
       "<h1>Adam with mean_squared_error</h1>"
      ],
      "text/plain": [
       "<IPython.core.display.HTML object>"
      ]
     },
     "metadata": {},
     "output_type": "display_data"
    },
    {
     "data": {
      "text/html": [
       "<h4>No regularization</h4>"
      ],
      "text/plain": [
       "<IPython.core.display.HTML object>"
      ]
     },
     "metadata": {},
     "output_type": "display_data"
    }
   ],
   "source": [
    "func_names=['Q1', 'Q2', 'Q3']\n",
    "\n",
    "\n",
    "for n, func_name in enumerate(func_names):\n",
    "    display(HTML(\"<h1>%s</h1>\"% func_name))\n",
    "    train_single_network(parameters=parameters, \n",
    "                         samples=samples[:,n], \n",
    "                         base_title='Sod Shock QMC %s' % func_name,\n",
    "                         network = network,\n",
    "                         epochs=epochs, \n",
    "                         large_integration_points = None)"
   ]
  },
  {
   "cell_type": "code",
   "execution_count": null,
   "metadata": {},
   "outputs": [],
   "source": []
  }
 ],
 "metadata": {
  "kernelspec": {
   "display_name": "Python 3",
   "language": "python",
   "name": "python3"
  },
  "language_info": {
   "codemirror_mode": {
    "name": "ipython",
    "version": 3
   },
   "file_extension": ".py",
   "mimetype": "text/x-python",
   "name": "python",
   "nbconvert_exporter": "python",
   "pygments_lexer": "ipython3",
   "version": "3.6.6"
  }
 },
 "nbformat": 4,
 "nbformat_minor": 2
}
