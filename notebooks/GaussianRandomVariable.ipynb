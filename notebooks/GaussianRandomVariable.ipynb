{
 "cells": [
  {
   "cell_type": "markdown",
   "metadata": {},
   "source": [
    "# Gaussian experiment\n",
    "All data is generated on the fly"
   ]
  },
  {
   "cell_type": "code",
   "execution_count": 1,
   "metadata": {},
   "outputs": [
    {
     "name": "stderr",
     "output_type": "stream",
     "text": [
      "Using TensorFlow backend.\n"
     ]
    }
   ],
   "source": [
    "import sys\n",
    "sys.path.append('../python')\n",
    "\n",
    "import matplotlib\n",
    "%matplotlib inline\n",
    "import matplotlib.pyplot as plt\n",
    "\n",
    "from machine_learning import *\n",
    "import scipy.stats\n",
    "import os\n",
    "import sobol\n",
    "import resource\n",
    "import json\n",
    "from notebook_network_size import find_best_network_size_notebook, try_best_network_sizes\n",
    "from train_single_network import train_single_network\n",
    "os.environ[\"CUDA_DEVICE_ORDER\"] = \"PCI_BUS_ID\"   # see issue #152\n",
    "os.environ[\"CUDA_VISIBLE_DEVICES\"] = \"\"\n"
   ]
  },
  {
   "cell_type": "markdown",
   "metadata": {},
   "source": [
    "# Setup"
   ]
  },
  {
   "cell_type": "code",
   "execution_count": 3,
   "metadata": {},
   "outputs": [
    {
     "ename": "SyntaxError",
     "evalue": "invalid syntax (<ipython-input-3-d0cb7cd0f153>, line 20)",
     "output_type": "error",
     "traceback": [
      "\u001b[0;36m  File \u001b[0;32m\"<ipython-input-3-d0cb7cd0f153>\"\u001b[0;36m, line \u001b[0;32m20\u001b[0m\n\u001b[0;31m    return np.sum(np.sin(4*np.pi*x)/np.arange1, dim+1), 1)\u001b[0m\n\u001b[0m                                                         ^\u001b[0m\n\u001b[0;31mSyntaxError\u001b[0m\u001b[0;31m:\u001b[0m invalid syntax\n"
     ]
    }
   ],
   "source": [
    "def generate_sobol_points(M, dim):\n",
    "    points = []\n",
    "    for i in range(M):\n",
    "        points.append(sobol.i4_sobol(dim,i)[0])\n",
    "    return np.array(points)\n",
    "\n",
    "dims = [6]\n",
    "dim = 6\n",
    "M = int(2**20)\n",
    "\n",
    "data_sources = {}\n",
    "for dim in dims: \n",
    "    data_sources[\"QMC Sobol %d dims\" % dim] = generate_sobol_points(M, dim)\n",
    "\n",
    "    \n",
    "def sine_functional(x):\n",
    "    return np.sum(np.sin(4*np.pi*x), 1)\n",
    "\n",
    "def sine_functional_1(x):\n",
    "    return np.sum(np.sin(4*np.pi*x)/np.arange(1, dim+1), 1)\n",
    "\n",
    "def sine_functional_3(x):\n",
    "    return np.sum(np.sin(4*np.pi*x)/np.arange(1,dim+1)**3, 1)\n",
    "\n",
    "functionals = {\n",
    "               \"Sine\" : sine_functional,\n",
    "               \"Sine/d\" : sine_functional_1,\n",
    "               \"Sine/d3\" : sine_functional_3\n",
    "            \n",
    "               }\n",
    "\n",
    "network_width = 12\n",
    "network_depth = 10\n",
    "    \n",
    "gaussian_network =  [network_width for k in range(network_depth)]\n",
    "gaussian_network.append(1)\n",
    "\n",
    "epochs = 500000\n",
    "\n",
    "print(gaussian_network)\n",
    "console_log(gaussian_network)\n"
   ]
  },
  {
   "cell_type": "markdown",
   "metadata": {},
   "source": [
    "# Network sizes"
   ]
  },
  {
   "cell_type": "code",
   "execution_count": null,
   "metadata": {
    "scrolled": true
   },
   "outputs": [],
   "source": [
    "\n",
    "\n",
    "for data_source_name in data_sources.keys():\n",
    "   \n",
    "    for functional_name in functionals.keys():\n",
    "        title = '%s %s' % (data_source_name, functional_name)\n",
    "        display(HTML(\"<h1>%s</h1>\" % title))\n",
    "        try_best_network_sizes(parameters=data_sources[data_source_name], \n",
    "                           samples=functionals[functional_name](data_sources[data_source_name]),\n",
    "                           base_title=title)"
   ]
  },
  {
   "cell_type": "markdown",
   "metadata": {},
   "source": [
    "# Single network"
   ]
  },
  {
   "cell_type": "code",
   "execution_count": null,
   "metadata": {
    "scrolled": false
   },
   "outputs": [],
   "source": [
    "\n",
    "for data_source_name in data_sources.keys():\n",
    "    sampling_method = 'QMC'\n",
    "    if 'Monte' in data_source_name:\n",
    "        sampling_method='MC'\n",
    "    for functional_name in functionals.keys():\n",
    "        title = '%s %s' % (data_source_name, functional_name)\n",
    "        display(HTML(\"<h1>%s</h1>\" % title))\n",
    "        train_single_network(parameters=data_sources[data_source_name], \n",
    "                           samples=functionals[functional_name](data_sources[data_source_name]),\n",
    "                         base_title=title,\n",
    "                         network = gaussian_network,\n",
    "                        \n",
    "                         large_integration_points = None,\n",
    "                         sampling_method=sampling_method)"
   ]
  },
  {
   "cell_type": "code",
   "execution_count": null,
   "metadata": {},
   "outputs": [],
   "source": []
  },
  {
   "cell_type": "code",
   "execution_count": null,
   "metadata": {},
   "outputs": [],
   "source": []
  }
 ],
 "metadata": {
  "kernelspec": {
   "display_name": "Python 3",
   "language": "python",
   "name": "python3"
  },
  "language_info": {
   "codemirror_mode": {
    "name": "ipython",
    "version": 3
   },
   "file_extension": ".py",
   "mimetype": "text/x-python",
   "name": "python",
   "nbconvert_exporter": "python",
   "pygments_lexer": "ipython3",
   "version": "3.7.1"
  }
 },
 "nbformat": 4,
 "nbformat_minor": 2
}
