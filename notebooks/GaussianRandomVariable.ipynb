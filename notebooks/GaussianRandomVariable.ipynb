{
 "cells": [
  {
   "cell_type": "markdown",
   "metadata": {},
   "source": [
    "# Gaussian experiment\n",
    "All data is generated on the fly"
   ]
  },
  {
   "cell_type": "code",
   "execution_count": 4,
   "metadata": {},
   "outputs": [],
   "source": [
    "import sys\n",
    "sys.path.append('../python')\n",
    "\n",
    "import matplotlib\n",
    "%matplotlib inline\n",
    "import matplotlib.pyplot as plt\n",
    "\n",
    "from machine_learning import *\n",
    "import scipy.stats\n",
    "import os\n",
    "import sobol\n",
    "import resource\n",
    "import json\n",
    "from notebook_network_size import find_best_network_size_notebook, try_best_network_sizes\n",
    "from train_single_network import train_single_network\n",
    "os.environ[\"CUDA_DEVICE_ORDER\"] = \"PCI_BUS_ID\"   # see issue #152\n",
    "os.environ[\"CUDA_VISIBLE_DEVICES\"] = \"\"\n"
   ]
  },
  {
   "cell_type": "markdown",
   "metadata": {},
   "source": [
    "# Setup"
   ]
  },
  {
   "cell_type": "code",
   "execution_count": 5,
   "metadata": {},
   "outputs": [
    {
     "name": "stdout",
     "output_type": "stream",
     "text": [
      "[12, 12, 12, 12, 12, 12, 12, 12, 12, 12, 1]\n"
     ]
    }
   ],
   "source": [
    "def generate_sobol_points(M, dim):\n",
    "    points = []\n",
    "    for i in range(M):\n",
    "        points.append(sobol.i4_sobol(dim,i)[0])\n",
    "    return np.array(points)\n",
    "\n",
    "dims = [6]\n",
    "dim = 6\n",
    "M = int(2**20)\n",
    "\n",
    "data_sources = {}\n",
    "for dim in dims: \n",
    "    data_sources[\"QMC Sobol %d dims\" % dim] = generate_sobol_points(M, dim)\n",
    " \n",
    "def sine_functional(x):\n",
    "    return np.sum(np.sin(4*np.pi*x), 1)\n",
    "\n",
    "def sine_functional_1(x):\n",
    "    return np.sum(np.sin(4*np.pi*x)/np.arange1, dim+1), 1)\n",
    "\n",
    "def sine_functional_3(x):\n",
    "    return np.sum(np.sin(4*np.pi*x)/np.arange(1,dim+1)**3, 1)\n",
    "\n",
    "functionals = {\n",
    "               \"Sine\" : sine_functional,\n",
    "               \"Sine/d\" : sine_functional_1,\n",
    "               \"Sine/d3\" : sine_functional_3\n",
    "            \n",
    "               }\n",
    "\n",
    "network_width = 12\n",
    "network_depth = 10\n",
    "    \n",
    "gaussian_network =  [network_width for k in range(network_depth)]\n",
    "gaussian_network.append(1)\n",
    "\n",
    "epochs = 500000\n",
    "\n",
    "print(gaussian_network)\n",
    "console_log(gaussian_network)\n"
   ]
  },
  {
   "cell_type": "markdown",
   "metadata": {},
   "source": [
    "# Network sizes"
   ]
  },
  {
   "cell_type": "code",
   "execution_count": null,
   "metadata": {
    "scrolled": true
   },
   "outputs": [
    {
     "data": {
      "text/html": [
       "<h1>QMC Sobol 6 dims_Circle</h1>"
      ],
      "text/plain": [
       "<IPython.core.display.HTML object>"
      ]
     },
     "metadata": {},
     "output_type": "display_data"
    },
    {
     "name": "stdout",
     "output_type": "stream",
     "text": [
      "\n",
      "Training took 1895.142275094986 seconds\n",
      "\n",
      "Training took 2099.1862144470215 seconds\n",
      "\n",
      "Training took 1483.4844615459442 seconds\n",
      "\n",
      "Training took 988.3106849193573 seconds\n",
      "\n",
      "Training took 965.545695066452 seconds\n",
      "Best network index: 4\n",
      "Total learning time took: 7474 s\n",
      "Training took 973.94220662117 seconds\n",
      "Number of parameters: 1501\n",
      "(1048576,)\n",
      "(1048576, 6)\n",
      "Memory usage: 1430244\n",
      "Memory usage: 1430244\n",
      "Memory usage: 1430244\n",
      "\n",
      "Training took 717.5242495536804 seconds\n",
      "\n",
      "Training took 761.9521384239197 seconds\n",
      "\n",
      "Training took 813.2535524368286 seconds\n",
      "\n",
      "Training took 849.1145102977753 seconds\n",
      "\n",
      "Training took 906.9856832027435 seconds\n",
      "Best network index: 2\n",
      "Total learning time took: 4090 s\n",
      "Training took 915.9128575325012 seconds\n",
      "Number of parameters: 1501\n",
      "(1048576,)\n",
      "(1048576, 6)\n",
      "Memory usage: 2110972\n",
      "Memory usage: 2110972\n",
      "Memory usage: 2110972\n",
      "\n",
      "Training took 974.5467457771301 seconds\n",
      "\n",
      "Training took 1037.9365673065186 seconds\n",
      "\n",
      "Training took 1125.2015886306763 seconds\n",
      "\n",
      "Training took 1182.1572480201721 seconds\n",
      "\n",
      "Training took 1277.7034282684326 seconds\n",
      "Best network index: 1\n",
      "Total learning time took: 5642 s\n",
      "Training took 1287.7970230579376 seconds\n",
      "Number of parameters: 1501\n",
      "(1048576,)\n",
      "(1048576, 6)\n",
      "Memory usage: 2710772\n",
      "Memory usage: 2710772\n",
      "Memory usage: 2710772\n",
      "\n",
      "Training took 1402.9130868911743 seconds\n",
      "\n",
      "Training took 1426.5833818912506 seconds\n",
      "\n",
      "Training took 1508.40105509758 seconds\n",
      "\n",
      "Training took 1428.1366865634918 seconds\n",
      "\n",
      "Training took 1556.8976037502289 seconds\n",
      "Best network index: 0\n",
      "Total learning time took: 7371 s\n",
      "Training took 1567.2644760608673 seconds\n",
      "Number of parameters: 1501\n",
      "(1048576,)\n",
      "(1048576, 6)\n",
      "Memory usage: 3321944\n",
      "Memory usage: 3321944\n",
      "Memory usage: 3321944\n",
      "\n",
      "Training took 1689.1239867210388 seconds\n",
      "\n",
      "Training took 1917.8255281448364 seconds\n",
      "\n",
      "Training took 1996.4056549072266 seconds\n",
      "\n",
      "Training took 2020.8725228309631 seconds\n",
      "\n",
      "Training took 2172.3867785930634 seconds\n",
      "Best network index: 2\n",
      "Total learning time took: 9852 s\n",
      "Training took 2184.845612049103 seconds\n",
      "Number of parameters: 1501\n",
      "(1048576,)\n",
      "(1048576, 6)\n",
      "Memory usage: 3941800\n",
      "Memory usage: 3941800\n",
      "Memory usage: 3941800\n",
      "\n",
      "Training took 2332.663028717041 seconds\n",
      "\n",
      "Training took 2578.1780545711517 seconds\n"
     ]
    }
   ],
   "source": [
    "\n",
    "\n",
    "for data_source_name in data_sources.keys():\n",
    "   \n",
    "    for functional_name in functionals.keys():\n",
    "        title = '%s %s' % (data_source_name, functional_name)\n",
    "        display(HTML(\"<h1>%s</h1>\" % title))\n",
    "        try_best_network_sizes(parameters=data_sources[data_source_name], \n",
    "                           samples=functionals[functional_name](data_sources[data_source_name]),\n",
    "                           base_title=title,\n",
    "                          epochs=epochs)"
   ]
  },
  {
   "cell_type": "markdown",
   "metadata": {},
   "source": [
    "# Single network"
   ]
  },
  {
   "cell_type": "code",
   "execution_count": 3,
   "metadata": {
    "scrolled": false
   },
   "outputs": [
    {
     "ename": "NameError",
     "evalue": "name 'data_sources' is not defined",
     "output_type": "error",
     "traceback": [
      "\u001b[0;31m---------------------------------------------------------------------------\u001b[0m",
      "\u001b[0;31mNameError\u001b[0m                                 Traceback (most recent call last)",
      "\u001b[0;32m<ipython-input-3-67b22839c15f>\u001b[0m in \u001b[0;36m<module>\u001b[0;34m\u001b[0m\n\u001b[1;32m      1\u001b[0m \u001b[0;34m\u001b[0m\u001b[0m\n\u001b[0;32m----> 2\u001b[0;31m \u001b[0;32mfor\u001b[0m \u001b[0mdata_source_name\u001b[0m \u001b[0;32min\u001b[0m \u001b[0mdata_sources\u001b[0m\u001b[0;34m.\u001b[0m\u001b[0mkeys\u001b[0m\u001b[0;34m(\u001b[0m\u001b[0;34m)\u001b[0m\u001b[0;34m:\u001b[0m\u001b[0;34m\u001b[0m\u001b[0;34m\u001b[0m\u001b[0m\n\u001b[0m\u001b[1;32m      3\u001b[0m     \u001b[0msampling_method\u001b[0m \u001b[0;34m=\u001b[0m \u001b[0;34m'QMC'\u001b[0m\u001b[0;34m\u001b[0m\u001b[0;34m\u001b[0m\u001b[0m\n\u001b[1;32m      4\u001b[0m     \u001b[0;32mif\u001b[0m \u001b[0;34m'Monte'\u001b[0m \u001b[0;32min\u001b[0m \u001b[0mdata_source_name\u001b[0m\u001b[0;34m:\u001b[0m\u001b[0;34m\u001b[0m\u001b[0;34m\u001b[0m\u001b[0m\n\u001b[1;32m      5\u001b[0m         \u001b[0msampling_method\u001b[0m\u001b[0;34m=\u001b[0m\u001b[0;34m'MC'\u001b[0m\u001b[0;34m\u001b[0m\u001b[0;34m\u001b[0m\u001b[0m\n",
      "\u001b[0;31mNameError\u001b[0m: name 'data_sources' is not defined"
     ]
    }
   ],
   "source": [
    "\n",
    "for data_source_name in data_sources.keys():\n",
    "    sampling_method = 'QMC'\n",
    "    if 'Monte' in data_source_name:\n",
    "        sampling_method='MC'\n",
    "    for functional_name in functionals.keys():\n",
    "        title = '%s %s' % (data_source_name, functional_name)\n",
    "        display(HTML(\"<h1>%s</h1>\" % title))\n",
    "        train_single_network(parameters=data_sources[data_source_name], \n",
    "                           samples=functionals[functional_name](data_sources[data_source_name]),\n",
    "                         base_title=title,\n",
    "                         network = gaussian_network,\n",
    "                         epochs=epochs, \n",
    "                         large_integration_points = None,\n",
    "                         sampling_method=sampling_method)"
   ]
  },
  {
   "cell_type": "code",
   "execution_count": null,
   "metadata": {},
   "outputs": [],
   "source": []
  },
  {
   "cell_type": "code",
   "execution_count": null,
   "metadata": {},
   "outputs": [],
   "source": []
  }
 ],
 "metadata": {
  "kernelspec": {
   "display_name": "Python 3",
   "language": "python",
   "name": "python3"
  },
  "language_info": {
   "codemirror_mode": {
    "name": "ipython",
    "version": 3
   },
   "file_extension": ".py",
   "mimetype": "text/x-python",
   "name": "python",
   "nbconvert_exporter": "python",
   "pygments_lexer": "ipython3",
   "version": "3.7.1"
  }
 },
 "nbformat": 4,
 "nbformat_minor": 2
}
