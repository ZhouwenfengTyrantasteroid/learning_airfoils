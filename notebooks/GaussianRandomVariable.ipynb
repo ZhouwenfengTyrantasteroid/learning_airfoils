{
 "cells": [
  {
   "cell_type": "markdown",
   "metadata": {},
   "source": [
    "# Gaussian experiment\n",
    "All data is generated on the fly"
   ]
  },
  {
   "cell_type": "code",
   "execution_count": 1,
   "metadata": {},
   "outputs": [
    {
     "name": "stderr",
     "output_type": "stream",
     "text": [
      "/usr/lib64/python3.6/site-packages/h5py/__init__.py:36: FutureWarning: Conversion of the second argument of issubdtype from `float` to `np.floating` is deprecated. In future, it will be treated as `np.float64 == np.dtype(float).type`.\n",
      "  from ._conv import register_converters as _register_converters\n",
      "Using TensorFlow backend.\n"
     ]
    }
   ],
   "source": [
    "import sys\n",
    "sys.path.append('../python')\n",
    "\n",
    "import matplotlib\n",
    "%matplotlib inline\n",
    "import matplotlib.pyplot as plt\n",
    "\n",
    "from machine_learning import *\n",
    "import scipy.stats\n",
    "import os\n",
    "import sobol\n",
    "os.environ[\"CUDA_DEVICE_ORDER\"] = \"PCI_BUS_ID\"   # see issue #152\n",
    "os.environ[\"CUDA_VISIBLE_DEVICES\"] = \"\""
   ]
  },
  {
   "cell_type": "markdown",
   "metadata": {},
   "source": [
    "# Setup"
   ]
  },
  {
   "cell_type": "code",
   "execution_count": 2,
   "metadata": {},
   "outputs": [],
   "source": [
    "def generate_sobol_points(M, dim):\n",
    "    points = []\n",
    "    for i in range(M):\n",
    "        points.append(sobol.i4_sobol(dim,i)[0])\n",
    "    return np.array(points)\n",
    "\n",
    "dim = 6\n",
    "M = int(2**10)\n",
    "\n",
    "data_sources = {\"Monte Carlo\": np.random.uniform(0, 1, (M,dim)),\n",
    "                \"QMC Sobol\" : generate_sobol_points(M, dim)}\n",
    "\n",
    "def sine_functional(x):\n",
    "    return np.sum(np.sin(4*np.pi*x), 1)\n",
    "def normal_functional(x):\n",
    "    return scipy.stats.norm.ppf(x)\n",
    "\n",
    "def sum_functional(x):\n",
    "    return np.sum(x, 1)\n",
    "\n",
    "functionals = {\"Sum\": sum_functional,\n",
    "               \"Sine\" : sine_functional,\n",
    "               \"Sine Normal\" : lambda x : sine_functional(normal_functional(x)),\n",
    "               \"Sum Normal\" : lambda x: sum_functional(normal_functional(x))\n",
    "               }\n",
    "\n",
    "\n",
    "gaussian_network =  [12, 12, 10, 12, 10, 12, 10, 10, 10, 12, 12,1]\n",
    "\n",
    "epochs = 500000\n",
    "\n"
   ]
  },
  {
   "cell_type": "markdown",
   "metadata": {},
   "source": [
    "# Training setup"
   ]
  },
  {
   "cell_type": "code",
   "execution_count": 3,
   "metadata": {
    "scrolled": false
   },
   "outputs": [],
   "source": [
    "def train(*, parameters, samples, title):\n",
    "    train_sizes = [ 128, 256, 512, 1024]\n",
    "    \n",
    "    optimizers = {\"SGD\": keras.optimizers.SGD,\n",
    "                 \"Adam\": keras.optimizers.Adam}\n",
    "    \n",
    "    losses = [\"mean_squared_error\", \"mean_absolute_error\"]\n",
    "    \n",
    "    for optimizer in optimizers.keys():\n",
    "        for loss in losses:\n",
    "            display(HTML(\"<h1>{}: Computed with {} with {}</h1>\".format(title, optimizer, loss)))\n",
    "    \n",
    "    \n",
    "            for train_size in train_sizes:\n",
    "                tables = Tables.make_default()\n",
    "                batch_size = train_size\n",
    "                validation_size=train_size\n",
    "                \n",
    "                \n",
    "                \n",
    "                network_information = NetworkInformation(optimizer=optimizers[optimizer], epochs=epochs, \n",
    "                                                             network=gaussian_network, train_size=train_size,\n",
    "                                                             validation_size=validation_size,\n",
    "                                                            loss=loss)\n",
    "                    \n",
    "                output_information = OutputInformation(tables=tables, title=title,\n",
    "                                                          short_title=title)\n",
    "                showAndSave.prefix='%s_%s_%s_ts_%d_bs_%d' %(title, optimizer, loss, batch_size, train_size)\n",
    "                get_network_and_postprocess(parameters, samples, network_information = network_information,\n",
    "                        output_information = output_information)\n",
    "                \n",
    "                showAndSave.prefix='%s_%s_%s_all_ts_%d_bs_%d' %(title, optimizer, loss, batch_size, train_size)\n",
    "                tables.write_tables()\n",
    "            \n",
    "    "
   ]
  },
  {
   "cell_type": "markdown",
   "metadata": {},
   "source": [
    "# Training"
   ]
  },
  {
   "cell_type": "code",
   "execution_count": null,
   "metadata": {},
   "outputs": [
    {
     "data": {
      "text/html": [
       "<h1>Sum with Monte Carlo: Computed with SGD with mean_squared_error</h1>"
      ],
      "text/plain": [
       "<IPython.core.display.HTML object>"
      ]
     },
     "metadata": {},
     "output_type": "display_data"
    }
   ],
   "source": [
    "for data_source_name in data_sources.keys():\n",
    "   \n",
    "    for functional_name in functionals.keys():\n",
    "        parameters = data_sources[data_source_name]\n",
    "        functional = functionals[functional_name]\n",
    "        \n",
    "        samples = functional(parameters)\n",
    "        title = '{} with {}'.format(functional_name, data_source_name)\n",
    "        \n",
    "        train(parameters=parameters, samples=samples, title=title)\n",
    "   "
   ]
  },
  {
   "cell_type": "code",
   "execution_count": null,
   "metadata": {},
   "outputs": [],
   "source": []
  },
  {
   "cell_type": "code",
   "execution_count": null,
   "metadata": {},
   "outputs": [],
   "source": []
  }
 ],
 "metadata": {
  "kernelspec": {
   "display_name": "Python 3",
   "language": "python",
   "name": "python3"
  },
  "language_info": {
   "codemirror_mode": {
    "name": "ipython",
    "version": 3
   },
   "file_extension": ".py",
   "mimetype": "text/x-python",
   "name": "python",
   "nbconvert_exporter": "python",
   "pygments_lexer": "ipython3",
   "version": "3.6.6"
  }
 },
 "nbformat": 4,
 "nbformat_minor": 2
}
