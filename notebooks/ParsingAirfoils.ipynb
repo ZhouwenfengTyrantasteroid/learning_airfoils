{
 "cells": [
  {
   "cell_type": "code",
   "execution_count": 1,
   "metadata": {},
   "outputs": [],
   "source": [
    "\n",
    "import matplotlib\n",
    "%matplotlib inline\n",
    "import sys\n",
    "sys.path.append('../python')\n",
    "import post_process_hyperparameters\n",
    "import plot_info\n",
    "import print_table"
   ]
  },
  {
   "cell_type": "code",
   "execution_count": null,
   "metadata": {
    "scrolled": false
   },
   "outputs": [],
   "source": [
    "plot_info.showAndSave.prefix = 'airfoils_qmc'\n",
    "plot_info.savePlot.saveTikz = False\n",
    "print_table.print_comparison_table.silent = True\n",
    "convergence_rate = 0.75 # measured emperically \n",
    "filenames = {'Drag' : '../data/qmc_airfoils_network_sizes_all_Drag.json',\n",
    "             'Lift' : '../data/qmc_airfoils_network_sizes_all_Lift.json'}\n",
    "post_process_hyperparameters.plot_all(filenames, convergence_rate, 'airfoils.tex')"
   ]
  },
  {
   "cell_type": "code",
   "execution_count": null,
   "metadata": {},
   "outputs": [],
   "source": []
  }
 ],
 "metadata": {
  "kernelspec": {
   "display_name": "Python 3",
   "language": "python",
   "name": "python3"
  },
  "language_info": {
   "codemirror_mode": {
    "name": "ipython",
    "version": 3
   },
   "file_extension": ".py",
   "mimetype": "text/x-python",
   "name": "python",
   "nbconvert_exporter": "python",
   "pygments_lexer": "ipython3",
   "version": "3.7.1"
  }
 },
 "nbformat": 4,
 "nbformat_minor": 2
}
