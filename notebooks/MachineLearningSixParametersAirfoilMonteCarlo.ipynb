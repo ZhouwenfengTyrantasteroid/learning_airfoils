{
 "cells": [
  {
   "cell_type": "markdown",
   "metadata": {},
   "source": [
    "# Airfoil experiments\n",
    "All data is available in the repository"
   ]
  },
  {
   "cell_type": "code",
   "execution_count": null,
   "metadata": {},
   "outputs": [],
   "source": []
  },
  {
   "cell_type": "code",
   "execution_count": 2,
   "metadata": {},
   "outputs": [
    {
     "name": "stderr",
     "output_type": "stream",
     "text": [
      "Using TensorFlow backend.\n"
     ]
    }
   ],
   "source": [
    "import sys\n",
    "sys.path.append('../python')\n",
    "\n",
    "import matplotlib\n",
    "%matplotlib inline\n",
    "import matplotlib.pyplot as plt\n",
    "\n",
    "from machine_learning import *\n",
    "import os\n",
    "os.environ[\"CUDA_DEVICE_ORDER\"] = \"PCI_BUS_ID\"   # see issue #152\n",
    "os.environ[\"CUDA_VISIBLE_DEVICES\"] = \"\""
   ]
  },
  {
   "cell_type": "markdown",
   "metadata": {},
   "source": [
    "# Setup"
   ]
  },
  {
   "cell_type": "code",
   "execution_count": 3,
   "metadata": {},
   "outputs": [],
   "source": [
    "mc_points_preprocessed = np.loadtxt('../mc6.txt')\n",
    "forces = np.loadtxt('../force_6_params_mc.dat')\n",
    "mc_points = []\n",
    "for f in forces[:,0]:\n",
    "    for n in range(mc_points_preprocessed.shape[0]):\n",
    "        if mc_points_preprocessed[n,0] == f:\n",
    "            mc_points.append(mc_points_preprocessed[n,:])\n",
    "mc_points = np.array(mc_points)\n",
    "\n",
    "\n",
    "\n",
    "\n",
    "input_size=6\n",
    "train_size=128\n",
    "validation_size=128\n",
    "\n",
    "epochs = 500000\n",
    "\n",
    "\n",
    "airfoils_network = [12, 12, 10, 12, 10, 12, 10, 10, 12,1]\n"
   ]
  },
  {
   "cell_type": "markdown",
   "metadata": {},
   "source": [
    "# One network per variable"
   ]
  },
  {
   "cell_type": "code",
   "execution_count": null,
   "metadata": {
    "scrolled": true
   },
   "outputs": [],
   "source": [
    "force_names=['Lift', 'Drag']\n",
    "batch_sizes=[train_size]\n",
    "train_sizes = [16, 32, train_size]\n",
    "\n",
    "optimizers = {\"SGD\": keras.optimizers.SGD,\n",
    "             \"Adam\": keras.optimizers.Adam}\n",
    "\n",
    "losses = [\"mean_squared_error\", \"mean_absolute_error\"]\n",
    "\n",
    "for optimizer in optimizers.keys():\n",
    "    for loss in losses:\n",
    "        display(HTML(\"<h1>{} with {}</h1>\".format(optimizer, loss)))\n",
    "\n",
    "        for batch_size in batch_sizes:\n",
    "            tables = Tables.make_default()\n",
    "            \n",
    "            for (n, f) in enumerate(force_names):\n",
    "                seed_random_number(random_seed)\n",
    "                network_information = NetworkInformation(optimizer=optimizers[optimizer], epochs=epochs, \n",
    "                                                         network=airfoils_network, train_size=train_size,\n",
    "                                                         validation_size=validation_size,\n",
    "                                                        loss=loss, \n",
    "                                                        large_integration_points=large_mc_points)\n",
    "                \n",
    "                output_information = OutputInformation(tables=tables, title=force_names[n],\n",
    "                                                      short_title=force_names[n],\n",
    "                                                      sampling_method='MC')\n",
    "                showAndSave.prefix='airfoil_mc_%s_%s_%s_ts_%d_bs_%d' %(optimizer, loss, f,batch_size, train_size)\n",
    "                get_network_and_postprocess(mc_points, forces[:,n+1], network_information = network_information,\n",
    "                    output_information = output_information)\n",
    "            \n",
    "            showAndSave.prefix='airfoil_mc_%s_%s_all_ts_%d_bs_%d' %(optimizer, loss, batch_size, train_size)\n",
    "            tables.write_tables()\n",
    "  "
   ]
  },
  {
   "cell_type": "markdown",
   "metadata": {},
   "source": [
    "# As a function of training errors"
   ]
  },
  {
   "cell_type": "code",
   "execution_count": 4,
   "metadata": {
    "scrolled": false
   },
   "outputs": [
    {
     "name": "stdout",
     "output_type": "stream",
     "text": [
      "\n",
      "Training took 331.7011618614197 seconds\n",
      "\n",
      "Training took 344.09136629104614 seconds\n",
      "\n",
      "Training took 345.3222155570984 seconds\n",
      "\n",
      "Training took 357.11843180656433 seconds\n",
      "\n",
      "Training took 374.4366683959961 seconds\n",
      "Best network index: 1\n",
      "Total learning time took: 1753 s\n",
      "Training took 374.70599246025085 seconds\n",
      "Number of parameters: 1161\n"
     ]
    },
    {
     "ename": "AttributeError",
     "evalue": "'str' object has no attribute 'output_information'",
     "output_type": "error",
     "traceback": [
      "\u001b[0;31m---------------------------------------------------------------------------\u001b[0m",
      "\u001b[0;31mAttributeError\u001b[0m                            Traceback (most recent call last)",
      "\u001b[0;32m<ipython-input-4-4ebf5dd187aa>\u001b[0m in \u001b[0;36m<module>\u001b[0;34m()\u001b[0m\n\u001b[1;32m     34\u001b[0m                                \u001b[0moutput_information\u001b[0m\u001b[0;34m,\u001b[0m\u001b[0;34m\u001b[0m\u001b[0m\n\u001b[1;32m     35\u001b[0m                                \u001b[0mrun_function\u001b[0m\u001b[0;34m,\u001b[0m\u001b[0;34m\u001b[0m\u001b[0m\n\u001b[0;32m---> 36\u001b[0;31m                                \u001b[0mmc_points\u001b[0m\u001b[0;34m.\u001b[0m\u001b[0mshape\u001b[0m\u001b[0;34m[\u001b[0m\u001b[0;36m0\u001b[0m\u001b[0;34m]\u001b[0m\u001b[0;34m\u001b[0m\u001b[0m\n\u001b[0m\u001b[1;32m     37\u001b[0m                                )\n",
      "\u001b[0;32m~/projects/learning_airfoils/python/machine_learning.py\u001b[0m in \u001b[0;36mplot_train_size_convergence\u001b[0;34m(network_information, output_information, run_function, max_size)\u001b[0m\n\u001b[1;32m    672\u001b[0m \u001b[0;34m\u001b[0m\u001b[0m\n\u001b[1;32m    673\u001b[0m         \u001b[0mprint_comparison_table\u001b[0m\u001b[0;34m.\u001b[0m\u001b[0msilent\u001b[0m \u001b[0;34m=\u001b[0m \u001b[0;32mTrue\u001b[0m\u001b[0;34m\u001b[0m\u001b[0m\n\u001b[0;32m--> 674\u001b[0;31m         \u001b[0mrun_function\u001b[0m\u001b[0;34m(\u001b[0m\u001b[0mnetwork_information\u001b[0m\u001b[0;34m,\u001b[0m \u001b[0moutput_information\u001b[0m\u001b[0;34m)\u001b[0m\u001b[0;34m\u001b[0m\u001b[0m\n\u001b[0m\u001b[1;32m    675\u001b[0m \u001b[0;34m\u001b[0m\u001b[0m\n\u001b[1;32m    676\u001b[0m         \u001b[0merrors\u001b[0m\u001b[0;34m[\u001b[0m\u001b[0;34m'prediction L2'\u001b[0m\u001b[0;34m]\u001b[0m\u001b[0;34m.\u001b[0m\u001b[0mappend\u001b[0m\u001b[0;34m(\u001b[0m\u001b[0moutput_information\u001b[0m\u001b[0;34m.\u001b[0m\u001b[0mprediction_error\u001b[0m\u001b[0;34m[\u001b[0m\u001b[0;36m2\u001b[0m\u001b[0;34m]\u001b[0m\u001b[0;34m)\u001b[0m\u001b[0;34m\u001b[0m\u001b[0m\n",
      "\u001b[0;32m<ipython-input-4-4ebf5dd187aa>\u001b[0m in \u001b[0;36mrun_function\u001b[0;34m(network_information, output_information)\u001b[0m\n\u001b[1;32m     16\u001b[0m         \u001b[0mprint_comparison_table\u001b[0m\u001b[0;34m.\u001b[0m\u001b[0msilent\u001b[0m \u001b[0;34m=\u001b[0m \u001b[0;32mTrue\u001b[0m\u001b[0;34m\u001b[0m\u001b[0m\n\u001b[1;32m     17\u001b[0m         get_network_and_postprocess(mc_points, forces[:,n+1], network_information = network_information,\n\u001b[0;32m---> 18\u001b[0;31m             output_information = output_information)\n\u001b[0m\u001b[1;32m     19\u001b[0m \u001b[0;34m\u001b[0m\u001b[0m\n\u001b[1;32m     20\u001b[0m         \u001b[0mshowAndSave\u001b[0m\u001b[0;34m.\u001b[0m\u001b[0mprefix\u001b[0m\u001b[0;34m=\u001b[0m\u001b[0;34m'airfoil_mc_convergence_result_%s_%s_%s'\u001b[0m \u001b[0;34m%\u001b[0m\u001b[0;34m(\u001b[0m\u001b[0moptimizer\u001b[0m\u001b[0;34m,\u001b[0m \u001b[0mloss\u001b[0m\u001b[0;34m,\u001b[0m \u001b[0mf\u001b[0m\u001b[0;34m)\u001b[0m\u001b[0;34m\u001b[0m\u001b[0m\n",
      "\u001b[0;32m~/projects/learning_airfoils/python/machine_learning.py\u001b[0m in \u001b[0;36mget_network_and_postprocess\u001b[0;34m(parameters, samples, network_information, output_information)\u001b[0m\n\u001b[1;32m    309\u001b[0m \u001b[0;34m\u001b[0m\u001b[0m\n\u001b[1;32m    310\u001b[0m \u001b[0;34m\u001b[0m\u001b[0m\n\u001b[0;32m--> 311\u001b[0;31m     \u001b[0mbilevel_speedup_table\u001b[0m\u001b[0;34m.\u001b[0m\u001b[0mset_header\u001b[0m\u001b[0;34m(\u001b[0m\u001b[0;34m[\u001b[0m\u001b[0;34m\"Functional\"\u001b[0m\u001b[0;34m,\u001b[0m \u001b[0;34m\"DLb{} Speedup\"\u001b[0m\u001b[0;34m.\u001b[0m\u001b[0moutput_information\u001b[0m\u001b[0;34m.\u001b[0m\u001b[0msampling_method\u001b[0m\u001b[0;34m]\u001b[0m\u001b[0;34m)\u001b[0m\u001b[0;34m\u001b[0m\u001b[0m\n\u001b[0m\u001b[1;32m    312\u001b[0m     \u001b[0mbilevel_speedup_table\u001b[0m\u001b[0;34m.\u001b[0m\u001b[0madd_row\u001b[0m\u001b[0;34m(\u001b[0m\u001b[0;34m[\u001b[0m\u001b[0moutput_information\u001b[0m\u001b[0;34m.\u001b[0m\u001b[0mshort_title\u001b[0m\u001b[0;34m,\u001b[0m \u001b[0mvariance_top\u001b[0m\u001b[0;34m/\u001b[0m\u001b[0mvariance_diff_ml\u001b[0m\u001b[0;34m]\u001b[0m\u001b[0;34m)\u001b[0m\u001b[0;34m\u001b[0m\u001b[0m\n\u001b[1;32m    313\u001b[0m \u001b[0;34m\u001b[0m\u001b[0m\n",
      "\u001b[0;31mAttributeError\u001b[0m: 'str' object has no attribute 'output_information'"
     ]
    }
   ],
   "source": [
    "force_names=['Lift', 'Drag']\n",
    "epochs = 500000\n",
    "\n",
    "optimizers = {\"SGD\": keras.optimizers.SGD,\n",
    "             \"Adam\": keras.optimizers.Adam}\n",
    "loss = \"mean_squared_error\"\n",
    "optimizer='SGD'\n",
    "for n in range(len(force_names)):\n",
    "    f=force_names[n]\n",
    "    tables = Tables.make_default()\n",
    "    def run_function(network_information, output_information):\n",
    "        showAndSave.prefix='airfoil_mc_convergence_%s_%s_%s_ts_%d_bs_%d' %(optimizer, loss, f, \n",
    "                                                                        network_information.batch_size,\n",
    "                                                                        network_information.train_size)\n",
    "        showAndSave.silent=True\n",
    "        print_comparison_table.silent = True\n",
    "        get_network_and_postprocess(mc_points, forces[:,n+1], network_information = network_information,\n",
    "            output_information = output_information)\n",
    "        \n",
    "        showAndSave.prefix='airfoil_mc_convergence_result_%s_%s_%s' %(optimizer, loss, f)\n",
    "        \n",
    "        \n",
    "    network_information = NetworkInformation(optimizer=optimizers[optimizer], epochs=epochs, \n",
    "                                                     network=airfoils_network, train_size=None,\n",
    "                                                     validation_size=None,\n",
    "                                                    loss=loss, \n",
    "                                                    large_integration_points=None,\n",
    "                                                    tries=5)\n",
    "            \n",
    "    output_information = OutputInformation(tables=tables, title=force_names[n],\n",
    "                                          short_title=force_names[n], sampling_method='MC')\n",
    "    \n",
    "    plot_train_size_convergence(network_information,\n",
    "                               output_information, \n",
    "                               run_function,\n",
    "                               mc_points.shape[0]\n",
    "                               )"
   ]
  },
  {
   "cell_type": "code",
   "execution_count": null,
   "metadata": {},
   "outputs": [],
   "source": [
    "print(output_information.__dict__)"
   ]
  },
  {
   "cell_type": "code",
   "execution_count": null,
   "metadata": {},
   "outputs": [],
   "source": []
  }
 ],
 "metadata": {
  "kernelspec": {
   "display_name": "Python 3",
   "language": "python",
   "name": "python3"
  },
  "language_info": {
   "codemirror_mode": {
    "name": "ipython",
    "version": 3
   },
   "file_extension": ".py",
   "mimetype": "text/x-python",
   "name": "python",
   "nbconvert_exporter": "python",
   "pygments_lexer": "ipython3",
   "version": "3.7.0"
  }
 },
 "nbformat": 4,
 "nbformat_minor": 2
}
