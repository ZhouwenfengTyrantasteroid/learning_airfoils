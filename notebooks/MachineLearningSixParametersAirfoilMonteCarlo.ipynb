{
 "cells": [
  {
   "cell_type": "markdown",
   "metadata": {},
   "source": [
    "# Airfoil experiments\n",
    "All data is available in the repository"
   ]
  },
  {
   "cell_type": "code",
   "execution_count": 1,
   "metadata": {},
   "outputs": [
    {
     "name": "stderr",
     "output_type": "stream",
     "text": [
      "Using TensorFlow backend.\n"
     ]
    }
   ],
   "source": [
    "import sys\n",
    "sys.path.append('../python')\n",
    "\n",
    "import matplotlib\n",
    "%matplotlib inline\n",
    "import matplotlib.pyplot as plt\n",
    "\n",
    "from machine_learning import *\n",
    "import os\n",
    "from notebook_network_size import find_best_network_size_notebook, try_best_network_sizes\n",
    "from train_single_network import train_single_network\n",
    "os.environ[\"CUDA_DEVICE_ORDER\"] = \"PCI_BUS_ID\"   # see issue #152\n",
    "os.environ[\"CUDA_VISIBLE_DEVICES\"] = \"\""
   ]
  },
  {
   "cell_type": "markdown",
   "metadata": {},
   "source": [
    "# Setup"
   ]
  },
  {
   "cell_type": "code",
   "execution_count": 2,
   "metadata": {},
   "outputs": [
    {
     "name": "stdout",
     "output_type": "stream",
     "text": [
      "(5120, 6)\n",
      "(5120, 3)\n"
     ]
    },
    {
     "data": {
      "text/plain": [
       "<matplotlib.collections.PathCollection at 0x7fe55b531400>"
      ]
     },
     "execution_count": 2,
     "metadata": {},
     "output_type": "execute_result"
    },
    {
     "data": {
      "image/png": "[encoded data removed]",
      "text/plain": [
       "<Figure size 432x288 with 1 Axes>"
      ]
     },
     "metadata": {
      "needs_background": "light"
     },
     "output_type": "display_data"
    }
   ],
   "source": [
    "mc_points_preprocessed = np.loadtxt('../mc6.txt')\n",
    "forces = np.loadtxt('../force_6_params_mc.dat')\n",
    "mc_points = []\n",
    "for f in forces[:,0]:\n",
    "    for n in range(mc_points_preprocessed.shape[0]):\n",
    "        if mc_points_preprocessed[n,0] == f:\n",
    "            mc_points.append(mc_points_preprocessed[n,1:])\n",
    "mc_points = np.array(mc_points)\n",
    "\n",
    "\n",
    "\n",
    "\n",
    "input_size=6\n",
    "train_size=128\n",
    "validation_size=128\n",
    "\n",
    "epochs = 5\n",
    "\n",
    "airfoils_network = [12, 12, 10, 12, 10, 12, 10, 10, 12,1]\n",
    "\n",
    "print(mc_points.shape)\n",
    "print(forces.shape)\n",
    "plt.scatter(forces[:,1], forces[:,2])"
   ]
  },
  {
   "cell_type": "markdown",
   "metadata": {},
   "source": [
    "# Network size\n"
   ]
  },
  {
   "cell_type": "code",
   "execution_count": null,
   "metadata": {},
   "outputs": [
    {
     "data": {
      "text/html": [
       "<h1>Lift</h1>"
      ],
      "text/plain": [
       "<IPython.core.display.HTML object>"
      ]
     },
     "metadata": {},
     "output_type": "display_data"
    },
    {
     "data": {
      "text/html": [
       "<h1>Best performing</h1>"
      ],
      "text/plain": [
       "<IPython.core.display.HTML object>"
      ]
     },
     "metadata": {},
     "output_type": "display_data"
    },
    {
     "data": {
      "text/html": [
       "<h2>mean_train</h2>"
      ],
      "text/plain": [
       "<IPython.core.display.HTML object>"
      ]
     },
     "metadata": {},
     "output_type": "display_data"
    },
    {
     "data": {
      "text/html": [
       "<h4>No regularization</h4>"
      ],
      "text/plain": [
       "<IPython.core.display.HTML object>"
      ]
     },
     "metadata": {},
     "output_type": "display_data"
    },
    {
     "name": "stdout",
     "output_type": "stream",
     "text": [
      "Config 4 x 6 ([0 x 0] / [5 x 5])\n",
      "Training and postprocessing took: 6.6610023975372314 seconds (0.11101670662562052 minutes) (0.001850278443760342 hours)\n",
      "Config 4 x 12 ([0 x 1] / [5 x 5])\n",
      "Training and postprocessing took: 8.593478679656982 seconds (0.1432246446609497 minutes) (0.002387077411015828 hours)\n",
      "Config 4 x 24 ([0 x 2] / [5 x 5])\n",
      "Training and postprocessing took: 11.447373390197754 seconds (0.1907895565032959 minutes) (0.0031798259417215985 hours)\n",
      "Config 4 x 48 ([0 x 3] / [5 x 5])\n",
      "Training and postprocessing took: 15.975512504577637 seconds (0.2662585417429606 minutes) (0.004437642362382676 hours)\n",
      "Config 4 x 96 ([0 x 4] / [5 x 5])\n",
      "Training and postprocessing took: 19.648709535598755 seconds (0.32747849225997927 minutes) (0.005457974870999654 hours)\n",
      "Config 8 x 6 ([1 x 0] / [5 x 5])\n",
      "Training and postprocessing took: 28.949645519256592 seconds (0.48249409198760984 minutes) (0.008041568199793497 hours)\n",
      "Config 8 x 12 ([1 x 1] / [5 x 5])\n",
      "Training and postprocessing took: 35.44392681121826 seconds (0.5907321135203044 minutes) (0.009845535225338407 hours)\n",
      "Config 8 x 24 ([1 x 2] / [5 x 5])\n",
      "Training and postprocessing took: 44.7159309387207 seconds (0.745265515645345 minutes) (0.012421091927422417 hours)\n",
      "Config 8 x 48 ([1 x 3] / [5 x 5])\n",
      "Training and postprocessing took: 57.22625112533569 seconds (0.9537708520889282 minutes) (0.015896180868148802 hours)\n",
      "Config 8 x 96 ([1 x 4] / [5 x 5])\n",
      "Training and postprocessing took: 68.58300638198853 seconds (1.1430501063664755 minutes) (0.019050835106107927 hours)\n",
      "Config 16 x 6 ([2 x 0] / [5 x 5])\n",
      "Training and postprocessing took: 91.57171630859375 seconds (1.526195271809896 minutes) (0.025436587863498266 hours)\n",
      "Config 16 x 12 ([2 x 1] / [5 x 5])\n",
      "Training and postprocessing took: 116.38288855552673 seconds (1.9397148092587788 minutes) (0.03232858015431298 hours)\n",
      "Config 16 x 24 ([2 x 2] / [5 x 5])\n",
      "Training and postprocessing took: 138.15910935401917 seconds (2.302651822566986 minutes) (0.03837753037611644 hours)\n",
      "Config 16 x 48 ([2 x 3] / [5 x 5])\n",
      "Training and postprocessing took: 163.54322409629822 seconds (2.72572040160497 minutes) (0.045428673360082834 hours)\n",
      "Config 16 x 96 ([2 x 4] / [5 x 5])\n",
      "Training and postprocessing took: 193.55802392959595 seconds (3.2259670654932657 minutes) (0.05376611775822109 hours)\n",
      "Config 32 x 6 ([3 x 0] / [5 x 5])\n",
      "Training and postprocessing took: 242.76077365875244 seconds (4.046012894312541 minutes) (0.06743354823854235 hours)\n",
      "Config 32 x 12 ([3 x 1] / [5 x 5])\n",
      "Training and postprocessing took: 290.78836011886597 seconds (4.846472668647766 minutes) (0.08077454447746277 hours)\n",
      "Config 32 x 24 ([3 x 2] / [5 x 5])\n",
      "Training and postprocessing took: 377.16262912750244 seconds (6.286043818791708 minutes) (0.10476739697986179 hours)\n",
      "Config 32 x 48 ([3 x 3] / [5 x 5])\n",
      "Training and postprocessing took: 432.47769927978516 seconds (7.207961654663086 minutes) (0.12013269424438476 hours)\n",
      "Config 32 x 96 ([3 x 4] / [5 x 5])\n",
      "Training and postprocessing took: 480.4938666820526 seconds (8.008231111367543 minutes) (0.13347051852279238 hours)\n",
      "Config 64 x 6 ([4 x 0] / [5 x 5])\n",
      "Training and postprocessing took: 679.9103510379791 seconds (11.331839183966318 minutes) (0.18886398639943863 hours)\n",
      "Config 64 x 12 ([4 x 1] / [5 x 5])\n",
      "Training and postprocessing took: 874.6402022838593 seconds (14.577336704730987 minutes) (0.24295561174551644 hours)\n",
      "Config 64 x 24 ([4 x 2] / [5 x 5])\n",
      "Training and postprocessing took: 1048.411812543869 seconds (17.473530209064485 minutes) (0.29122550348440807 hours)\n",
      "Config 64 x 48 ([4 x 3] / [5 x 5])\n",
      "Training and postprocessing took: 1181.4360196590424 seconds (19.690600327650706 minutes) (0.3281766721275118 hours)\n",
      "Config 64 x 96 ([4 x 4] / [5 x 5])\n"
     ]
    }
   ],
   "source": [
    "force_names=['Lift', 'Drag']\n",
    "\n",
    "for n, force_name in enumerate(force_names):\n",
    "    display(HTML(\"<h1>%s</h1>\"% force_name))\n",
    "    try_best_network_sizes(parameters=mc_points, \n",
    "                           samples=forces[:,n+1], \n",
    "                           base_title='Airfoils MC %s' % force_name,\n",
    "                          epochs=epochs)"
   ]
  },
  {
   "cell_type": "markdown",
   "metadata": {},
   "source": [
    "# One network per variable"
   ]
  },
  {
   "cell_type": "code",
   "execution_count": null,
   "metadata": {
    "scrolled": false
   },
   "outputs": [],
   "source": [
    "force_names=['Lift', 'Drag']\n",
    "\n",
    "for n, force_name in enumerate(force_names):\n",
    "    display(HTML(\"<h1>%s</h1>\"% force_name))\n",
    "    train_single_network(parameters=mc_points, \n",
    "                         samples=forces[:,n+1], \n",
    "                         base_title='Airfoils MC %s' % force_name,\n",
    "                         network = airfoils_network,\n",
    "                         epochs=epochs, \n",
    "                         large_integration_points = None)"
   ]
  }
 ],
 "metadata": {
  "kernelspec": {
   "display_name": "Python 3",
   "language": "python",
   "name": "python3"
  },
  "language_info": {
   "codemirror_mode": {
    "name": "ipython",
    "version": 3
   },
   "file_extension": ".py",
   "mimetype": "text/x-python",
   "name": "python",
   "nbconvert_exporter": "python",
   "pygments_lexer": "ipython3",
   "version": "3.7.1"
  }
 },
 "nbformat": 4,
 "nbformat_minor": 2
}
