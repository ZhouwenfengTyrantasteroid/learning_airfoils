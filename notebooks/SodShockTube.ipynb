{
 "cells": [
  {
   "cell_type": "code",
   "execution_count": 1,
   "metadata": {},
   "outputs": [
    {
     "name": "stderr",
     "output_type": "stream",
     "text": [
      "/usr/lib64/python3.6/site-packages/h5py/__init__.py:36: FutureWarning: Conversion of the second argument of issubdtype from `float` to `np.floating` is deprecated. In future, it will be treated as `np.float64 == np.dtype(float).type`.\n",
      "  from ._conv import register_converters as _register_converters\n",
      "Using TensorFlow backend.\n"
     ]
    }
   ],
   "source": [
    "import sys\n",
    "sys.path.append('../python')\n",
    "\n",
    "import matplotlib\n",
    "%matplotlib inline\n",
    "import matplotlib.pyplot as plt\n",
    "\n",
    "from machine_learning import *\n",
    "from notebook_network_size import find_best_network_size_notebook, try_best_network_sizes\n",
    "from train_single_network import train_single_network\n",
    "import os\n",
    "os.environ[\"CUDA_DEVICE_ORDER\"] = \"PCI_BUS_ID\"   # see issue #152\n",
    "os.environ[\"CUDA_VISIBLE_DEVICES\"] = \"\""
   ]
  },
  {
   "cell_type": "code",
   "execution_count": 5,
   "metadata": {
    "scrolled": false
   },
   "outputs": [],
   "source": [
    "data = []\n",
    "with open('../SOD_MC_DATA.dat', 'r') as inputfile:\n",
    "    for l in inputfile:\n",
    "        data.append([float(x) for x in l.split(',')])\n",
    "data = np.array(data)\n",
    "\n",
    "parameters = data[:,:6]\n",
    "samples = data[:,6:]"
   ]
  },
  {
   "cell_type": "code",
   "execution_count": null,
   "metadata": {},
   "outputs": [],
   "source": [
    "epochs = 5\n",
    "network = [12, 12, 10, 12, 10, 12, 10, 10, 12,1]"
   ]
  },
  {
   "cell_type": "markdown",
   "metadata": {},
   "source": [
    "# Network sizes\n"
   ]
  },
  {
   "cell_type": "code",
   "execution_count": null,
   "metadata": {},
   "outputs": [],
   "source": [
    "func_names=['Q1', 'Q2', 'Q3']\n",
    "\n",
    "for n, func_name in enumerate(func_names):\n",
    "    display(HTML(\"<h1>%s</h1>\"% func_name))\n",
    "    try_best_network_sizes(parameters=parameters, \n",
    "                           samples=samples[:,n], \n",
    "                           base_title='Sod Shock MC %s' % func_name,\n",
    "                          epochs=epochs)"
   ]
  },
  {
   "cell_type": "markdown",
   "metadata": {},
   "source": [
    "# Single network"
   ]
  },
  {
   "cell_type": "code",
   "execution_count": null,
   "metadata": {},
   "outputs": [],
   "source": [
    "func_names=['Q1', 'Q2', 'Q3']\n",
    "\n",
    "\n",
    "for n, func_name in enumerate(func_names):\n",
    "    display(HTML(\"<h1>%s</h1>\"% func_name))\n",
    "    train_single_network(parameters=parameters, \n",
    "                         samples=forces[:,n+1], \n",
    "                         base_title='Sod Shock MC %s' % func_name,\n",
    "                         network = airfoils_network,\n",
    "                         epochs=epochs, \n",
    "                         large_integration_points = None)"
   ]
  }
 ],
 "metadata": {
  "kernelspec": {
   "display_name": "Python 3",
   "language": "python",
   "name": "python3"
  },
  "language_info": {
   "codemirror_mode": {
    "name": "ipython",
    "version": 3
   },
   "file_extension": ".py",
   "mimetype": "text/x-python",
   "name": "python",
   "nbconvert_exporter": "python",
   "pygments_lexer": "ipython3",
   "version": "3.6.6"
  }
 },
 "nbformat": 4,
 "nbformat_minor": 2
}
