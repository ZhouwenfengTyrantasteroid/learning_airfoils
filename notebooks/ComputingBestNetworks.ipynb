{
 "cells": [
  {
   "cell_type": "code",
   "execution_count": 1,
   "metadata": {},
   "outputs": [
    {
     "name": "stderr",
     "output_type": "stream",
     "text": [
      "Using TensorFlow backend.\n"
     ]
    }
   ],
   "source": [
    "import matplotlib\n",
    "%matplotlib inline\n",
    "import sys\n",
    "sys.path.append('../python')\n",
    "import post_process_hyperparameters\n",
    "import plot_info\n",
    "import print_table\n",
    "import SodShockTube\n",
    "import SodShockTubeQMC\n",
    "import MachineLearningSixParametersAirfoil\n",
    "import GaussianRandomVariable\n",
    "from train_single_network import compute_for_all_in_json\n",
    "from post_process_hyperparameters import LatexWithAllPlots"
   ]
  },
  {
   "cell_type": "code",
   "execution_count": 2,
   "metadata": {},
   "outputs": [],
   "source": [
    "data_sources = {\n",
    "    'Airfoils' : [\n",
    "        MachineLearningSixParametersAirfoil.get_airfoil_data,\n",
    "        MachineLearningSixParametersAirfoil.get_airfoils_network\n",
    "    ],\n",
    "    \n",
    "    'SodShockTubeQMC' : [\n",
    "        SodShockTubeQMC.get_sod_data_qmc,\n",
    "        SodShockTubeQMC.get_network\n",
    "    ],\n",
    "    \n",
    "    'Sine' : [\n",
    "        GaussianRandomVariable.get_sine_data,\n",
    "        GaussianRandomVariable.get_sine_network\n",
    "    ]\n",
    "}\n",
    "\n",
    "json_file = '../data/best_networks.json'"
   ]
  },
  {
   "cell_type": "code",
   "execution_count": null,
   "metadata": {
    "scrolled": false
   },
   "outputs": [],
   "source": [
    "latex_out = 'computing_best_networks.tex'\n",
    "latex = LatexWithAllPlots()\n",
    "plot_info.savePlot.callback = latex\n",
    "print_table.print_comparison_table.callback = lambda x, title: latex.add_table(x, title)\n",
    "\n",
    "\n",
    "for data_source_name in data_sources.keys():\n",
    "    parameters, data_per_func, monte_carlo_parameters, monte_carlo_values = data_sources[data_source_name][0]()\n",
    "    network = data_sources[data_source_name][1]()\n",
    "    \n",
    "    for func_name in data_per_func.keys():\n",
    "        compute_for_all_in_json(json_file, parameters=parameters,\n",
    "                               samples=data_per_func[func_name],\n",
    "                                network=network,\n",
    "                               base_title='{} {}'.format(data_source_name, func_name),\n",
    "                               monte_carlo_values = monte_carlo_values[func_name],\n",
    "                               monte_carlo_parameters = monte_carlo_parameters)\n",
    "        \n",
    "with open(latex_out, 'w') as f:\n",
    "    f.write(latex.get_latex())\n"
   ]
  },
  {
   "cell_type": "code",
   "execution_count": null,
   "metadata": {},
   "outputs": [],
   "source": []
  }
 ],
 "metadata": {
  "kernelspec": {
   "display_name": "Python 3",
   "language": "python",
   "name": "python3"
  },
  "language_info": {
   "codemirror_mode": {
    "name": "ipython",
    "version": 3
   },
   "file_extension": ".py",
   "mimetype": "text/x-python",
   "name": "python",
   "nbconvert_exporter": "python",
   "pygments_lexer": "ipython3",
   "version": "3.7.2"
  }
 },
 "nbformat": 4,
 "nbformat_minor": 2
}
