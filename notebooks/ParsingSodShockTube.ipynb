{
 "cells": [
  {
   "cell_type": "code",
   "execution_count": 1,
   "metadata": {},
   "outputs": [],
   "source": [
    "\n",
    "import matplotlib\n",
    "%matplotlib inline\n",
    "import sys\n",
    "sys.path.append('../python')\n",
    "import post_process_hyperparameters\n",
    "import plot_info\n",
    "import print_table"
   ]
  },
  {
   "cell_type": "code",
   "execution_count": 2,
   "metadata": {
    "scrolled": false
   },
   "outputs": [
    {
     "data": {
      "text/html": [
       "<h1>Q3<h1>"
      ],
      "text/plain": [
       "<IPython.core.display.HTML object>"
      ]
     },
     "metadata": {},
     "output_type": "display_data"
    },
    {
     "name": "stdout",
     "output_type": "stream",
     "text": [
      "915\n",
      "276\n",
      "915\n",
      "182\n",
      "[128, 256, 32, 64]\n",
      "915\n",
      "276\n",
      "915\n",
      "182\n",
      "[128, 256, 32, 64]\n",
      "915\n",
      "276\n",
      "915\n",
      "182\n",
      "[128, 256, 32, 64]\n",
      "915\n",
      "457\n",
      "915\n",
      "458\n",
      "[64, 128, 256, 32]\n",
      "915\n",
      "457\n",
      "915\n",
      "458\n",
      "[64, 128, 256, 32]\n",
      "915\n",
      "457\n",
      "915\n",
      "458\n",
      "[64, 128, 256, 32]\n",
      "915\n",
      "84\n",
      "915\n",
      "192\n",
      "[128, 32, 256, 64]\n",
      "915\n",
      "84\n",
      "915\n",
      "192\n",
      "[128, 32, 256, 64]\n",
      "915\n",
      "84\n",
      "915\n",
      "192\n",
      "[128, 32, 256, 64]\n",
      "915\n",
      "96\n",
      "915\n",
      "144\n",
      "[128, 64, 32, 256]\n",
      "915\n",
      "96\n",
      "915\n",
      "144\n",
      "[128, 64, 32, 256]\n",
      "915\n",
      "96\n",
      "915\n",
      "144\n",
      "[128, 64, 32, 256]\n",
      "915\n",
      "35\n",
      "915\n",
      "34\n",
      "[256, 32, 128, 64]\n",
      "915\n",
      "35\n",
      "915\n",
      "34\n",
      "[256, 32, 128, 64]\n",
      "915\n",
      "35\n",
      "915\n",
      "34\n",
      "[256, 32, 128, 64]\n",
      "915\n",
      "35\n",
      "915\n",
      "35\n",
      "[256, 32, 128, 64]\n",
      "915\n",
      "35\n",
      "915\n",
      "35\n",
      "[256, 32, 128, 64]\n",
      "915\n",
      "35\n",
      "915\n",
      "35\n",
      "[256, 32, 128, 64]\n",
      "915\n",
      "34\n",
      "915\n",
      "35\n",
      "[128, 32, 256, 64]\n",
      "915\n",
      "34\n",
      "915\n",
      "35\n",
      "[128, 32, 256, 64]\n",
      "915\n",
      "34\n",
      "915\n",
      "35\n",
      "[128, 32, 256, 64]\n",
      "915\n",
      "34\n",
      "915\n",
      "35\n",
      "[128, 256, 64, 32]\n",
      "915\n",
      "34\n",
      "915\n",
      "35\n",
      "[128, 256, 64, 32]\n",
      "915\n",
      "34\n",
      "915\n",
      "35\n",
      "[128, 256, 64, 32]\n"
     ]
    },
    {
     "data": {
      "text/html": [
       "<h2>Only Adam with ($L^2$ and no regularization) or ($L^1$ with regularization)<h2>"
      ],
      "text/plain": [
       "<IPython.core.display.HTML object>"
      ]
     },
     "metadata": {},
     "output_type": "display_data"
    },
    {
     "data": {
      "text/html": [
       "<h3><h3>"
      ],
      "text/plain": [
       "<IPython.core.display.HTML object>"
      ]
     },
     "metadata": {},
     "output_type": "display_data"
    },
    {
     "name": "stdout",
     "output_type": "stream",
     "text": [
      "915\n",
      "228\n",
      "[128, 256, 32, 64]\n",
      "[5]\n",
      "[6]\n",
      "[5]\n",
      "[6]\n",
      "[5]\n",
      "[6]\n",
      "[5]\n",
      "[6]\n"
     ]
    },
    {
     "ename": "TypeError",
     "evalue": "a float is required",
     "output_type": "error",
     "traceback": [
      "\u001b[0;31m---------------------------------------------------------------------------\u001b[0m",
      "\u001b[0;31mTypeError\u001b[0m                                 Traceback (most recent call last)",
      "\u001b[0;32m<ipython-input-2-5b145fa4ad85>\u001b[0m in \u001b[0;36m<module>\u001b[0;34m\u001b[0m\n\u001b[1;32m      6\u001b[0m              \u001b[0;34m'Q2'\u001b[0m \u001b[0;34m:\u001b[0m \u001b[0;34m'../data/qmc_sodshocktube_network_size_Q2.json'\u001b[0m\u001b[0;34m,\u001b[0m\u001b[0;34m\u001b[0m\u001b[0m\n\u001b[1;32m      7\u001b[0m              'Q3':'../data/qmc_sodshocktube_network_size_Q3.json'}\n\u001b[0;32m----> 8\u001b[0;31m \u001b[0mpost_process_hyperparameters\u001b[0m\u001b[0;34m.\u001b[0m\u001b[0mplot_all\u001b[0m\u001b[0;34m(\u001b[0m\u001b[0mfilenames\u001b[0m\u001b[0;34m,\u001b[0m \u001b[0mconvergence_rate\u001b[0m\u001b[0;34m,\u001b[0m \u001b[0;34m'sodshocktube.tex'\u001b[0m\u001b[0;34m)\u001b[0m\u001b[0;34m\u001b[0m\u001b[0m\n\u001b[0m",
      "\u001b[0;32m/project/python/post_process_hyperparameters.py\u001b[0m in \u001b[0;36mplot_all\u001b[0;34m(filenames, convergence_rate, latex_out, data_source, only_network_sizes)\u001b[0m\n\u001b[1;32m    238\u001b[0m                 plot_as_training_size(functional, filter_configs(data[functional], test_functions=[filters[filtername]],\n\u001b[1;32m    239\u001b[0m                                     onlys=onlys[only]), \\\n\u001b[0;32m--> 240\u001b[0;31m                                   filtername+\" \" + only, only_network_sizes=only_network_sizes)\n\u001b[0m\u001b[1;32m    241\u001b[0m         \u001b[0;32mfor\u001b[0m \u001b[0mfiltername\u001b[0m \u001b[0;32min\u001b[0m \u001b[0mfilters_single\u001b[0m\u001b[0;34m:\u001b[0m\u001b[0;34m\u001b[0m\u001b[0m\n\u001b[1;32m    242\u001b[0m             \u001b[0mheading\u001b[0m\u001b[0;34m(\u001b[0m\u001b[0;36m1\u001b[0m\u001b[0;34m,\u001b[0m \u001b[0mfiltername\u001b[0m\u001b[0;34m)\u001b[0m\u001b[0;34m\u001b[0m\u001b[0m\n",
      "\u001b[0;32m/project/python/post_process_hyperparameters.py\u001b[0m in \u001b[0;36mplot_as_training_size\u001b[0;34m(functional, data, title, only_network_sizes)\u001b[0m\n\u001b[1;32m    885\u001b[0m \u001b[0;34m\u001b[0m\u001b[0m\n\u001b[1;32m    886\u001b[0m                                                     plt.loglog(train_sizes, np.exp(poly[1])*train_sizes**poly[0],\n\u001b[0;32m--> 887\u001b[0;31m                                                                '--', label='${%.2e}\\\\cdot N^{%.2f}$' % (constant_latex, poly[0]))\n\u001b[0m\u001b[1;32m    888\u001b[0m \u001b[0;34m\u001b[0m\u001b[0m\n\u001b[1;32m    889\u001b[0m                                                 \u001b[0;32mif\u001b[0m \u001b[0minclude_max\u001b[0m\u001b[0;34m:\u001b[0m\u001b[0;34m\u001b[0m\u001b[0m\n",
      "\u001b[0;31mTypeError\u001b[0m: a float is required"
     ]
    },
    {
     "data": {
      "image/png": "[encoded data removed]",
      "text/plain": [
       "<Figure size 432x288 with 1 Axes>"
      ]
     },
     "metadata": {
      "needs_background": "light"
     },
     "output_type": "display_data"
    }
   ],
   "source": [
    "plot_info.showAndSave.prefix = 'sodshocktube'\n",
    "plot_info.savePlot.saveTikz = False\n",
    "print_table.print_comparison_table.silent = True\n",
    "convergence_rate = 0.75 # measured emperically \n",
    "filenames = {'Q1' : '../data/qmc_sodshocktube_network_size_Q1.json',\n",
    "             'Q2' : '../data/qmc_sodshocktube_network_size_Q2.json',\n",
    "             'Q3':'../data/qmc_sodshocktube_network_size_Q3.json'}\n",
    "post_process_hyperparameters.plot_all(filenames, convergence_rate, 'sodshocktube.tex')"
   ]
  },
  {
   "cell_type": "code",
   "execution_count": null,
   "metadata": {},
   "outputs": [],
   "source": []
  }
 ],
 "metadata": {
  "kernelspec": {
   "display_name": "Python 3",
   "language": "python",
   "name": "python3"
  },
  "language_info": {
   "codemirror_mode": {
    "name": "ipython",
    "version": 3
   },
   "file_extension": ".py",
   "mimetype": "text/x-python",
   "name": "python",
   "nbconvert_exporter": "python",
   "pygments_lexer": "ipython3",
   "version": "3.5.2"
  }
 },
 "nbformat": 4,
 "nbformat_minor": 2
}
